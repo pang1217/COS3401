{
 "cells": [
  {
   "cell_type": "code",
   "execution_count": 1,
   "metadata": {},
   "outputs": [],
   "source": [
    "import numpy as np\n",
    "import matplotlib.pyplot as plt\n",
    "import cv2"
   ]
  },
  {
   "cell_type": "code",
   "execution_count": 3,
   "metadata": {},
   "outputs": [],
   "source": [
    "img = np.random.randint(20, size = [10,10])"
   ]
  },
  {
   "cell_type": "code",
   "execution_count": 4,
   "metadata": {},
   "outputs": [
    {
     "name": "stdout",
     "output_type": "stream",
     "text": [
      "[[ 4 17 16  3  8 11  0 19 11 13]\n",
      " [ 7 17  7  6  4  1  5 12 14 17]\n",
      " [13  6  5  6 14 14 16 10  0 10]\n",
      " [13 15  4  7  6  8 19  1  0  6]\n",
      " [ 4  2  1 16 14  8  4 12 14 18]\n",
      " [15 16  7 17  3  1 14 12  0 13]\n",
      " [ 3 16  8 18  8 13 11  3 19 18]\n",
      " [12 15  9 15 16 11  6  1  6  3]\n",
      " [ 0 19 10  5 16 18  9 18  5 12]\n",
      " [ 6  8  4  8  2  6  4 13 10  4]] (10, 10)\n"
     ]
    }
   ],
   "source": [
    "print(img, img.shape)"
   ]
  },
  {
   "cell_type": "code",
   "execution_count": 31,
   "metadata": {},
   "outputs": [],
   "source": [
    "sz = 3\n",
    "bd = int(sz / 2)\n",
    "i, j = 1, 1"
   ]
  },
  {
   "cell_type": "code",
   "execution_count": 38,
   "metadata": {},
   "outputs": [],
   "source": [
    "sub_img = np.zeros_like(img, dtype='uint8')"
   ]
  },
  {
   "cell_type": "code",
   "execution_count": 39,
   "metadata": {},
   "outputs": [
    {
     "name": "stdout",
     "output_type": "stream",
     "text": [
      "[[ 0  0  0  0  0  0  0  0  0  0]\n",
      " [ 0  7  6  6  7  8 11 11 12  0]\n",
      " [ 0  7  6  6  7  8 10 10 10  0]\n",
      " [ 0  5  6  6  8 14 10 10 10  0]\n",
      " [ 0  7  7  7  8  8  8 12 12  0]\n",
      " [ 0  7 16  8 13  8 11 12 13  0]\n",
      " [ 0 12 15  9 13 11 11  6  6  0]\n",
      " [ 0 10 15 10 15 11 11  6  6  0]\n",
      " [ 0  9  9  9 11  9  9  6  6  0]\n",
      " [ 0  0  0  0  0  0  0  0  0  0]]\n"
     ]
    }
   ],
   "source": [
    "m,n = img.shape\n",
    "t = sz * sz\n",
    "inx = t // 2\n",
    "for i in range(bd, m-bd):\n",
    "    for j in range(bd, n-bd):\n",
    "        a = img[i-bd : i+bd+1, j-bd : j+bd+1]\n",
    "        b = np.ravel(a)\n",
    "        c = np.sort(b)\n",
    "        sub_img[i, j] = c[inx]\n",
    "print(sub_img)\n",
    "        "
   ]
  },
  {
   "cell_type": "code",
   "execution_count": null,
   "metadata": {},
   "outputs": [],
   "source": []
  }
 ],
 "metadata": {
  "kernelspec": {
   "display_name": "Python 3",
   "language": "python",
   "name": "python3"
  },
  "language_info": {
   "codemirror_mode": {
    "name": "ipython",
    "version": 3
   },
   "file_extension": ".py",
   "mimetype": "text/x-python",
   "name": "python",
   "nbconvert_exporter": "python",
   "pygments_lexer": "ipython3",
   "version": "3.9.18"
  },
  "orig_nbformat": 4
 },
 "nbformat": 4,
 "nbformat_minor": 2
}
