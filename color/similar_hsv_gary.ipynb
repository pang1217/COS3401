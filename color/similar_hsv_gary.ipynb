{
 "cells": [
  {
   "cell_type": "code",
   "execution_count": null,
   "metadata": {},
   "outputs": [],
   "source": [
    "import cv2\n",
    "import numpy as np\n",
    "import matplotlib.pyplot as plt"
   ]
  },
  {
   "cell_type": "code",
   "execution_count": null,
   "metadata": {},
   "outputs": [],
   "source": [
    "def ShowImage(img, gray):\n",
    "    plt.axis(\"off\")\n",
    "    if gray:\n",
    "        plt.imshow(img, cmap='gray')\n",
    "    else:\n",
    "        plt.imshow(img)\n",
    "    plt.show()"
   ]
  },
  {
   "cell_type": "code",
   "execution_count": null,
   "metadata": {},
   "outputs": [],
   "source": [
    "def img_subtraction_manual(a, b):\n",
    "    if a.shape != b.shape:\n",
    "        print(\"Images have different dimensions. Cannot subtract.\")\n",
    "        return None\n",
    "    else:\n",
    "        return np.abs(a.astype(np.uint16) - b.astype(np.uint16)).astype(np.uint8)"
   ]
  },
  {
   "cell_type": "code",
   "execution_count": null,
   "metadata": {},
   "outputs": [],
   "source": [
    "def img_subtraction_cv2(a, b):\n",
    "    if a.shape != b.shape:\n",
    "        print(\"Images have different dimensions. Cannot subtract.\")\n",
    "        return None\n",
    "    else:\n",
    "        return cv2.subtract(a, b)"
   ]
  },
  {
   "cell_type": "code",
   "execution_count": null,
   "metadata": {},
   "outputs": [],
   "source": [
    "def normalization(shade, scale):\n",
    "    mn, mx = np.amin(shade), np.amax(shade)\n",
    "    return (((shade - mn)/(mx-mn))*scale).astype(np.uint8)"
   ]
  },
  {
   "cell_type": "code",
   "execution_count": null,
   "metadata": {},
   "outputs": [],
   "source": [
    "def rgb_to_hsi(img):\n",
    "    R = img[:, :, 2].astype(np.float16)\n",
    "    G = img[:, :, 1].astype(np.float16)\n",
    "    B = img[:, :, 0].astype(np.float16)\n",
    "\n",
    "    I = (R + G + B) / 3.0\n",
    "\n",
    "    min_rgb = np.minimum.reduce([R, G, B])\n",
    "    S = 1 - (3.0 / (R + G + B + 1e-6)) * min_rgb\n",
    "\n",
    "    num = 0.5 * ((R - G) + (R - B))\n",
    "    den = np.sqrt((R - G)**2 + (R - B) * (G - B))\n",
    "    den[den == 0] = 0.0000001  \n",
    "    theta = np.arccos(num / den)\n",
    "\n",
    "    H = theta\n",
    "    H[B > G] = 2 * np.pi - H[B > G]\n",
    "    H = np.degrees(H)\n",
    "    return H,S,I"
   ]
  },
  {
   "cell_type": "code",
   "execution_count": null,
   "metadata": {},
   "outputs": [],
   "source": [
    "def rgb_gray(rgb):\n",
    "    rgb = rgb.astype(np.float32)\n",
    "    return (0.1140*rgb[:,:,0] + 0.5870*rgb[:,:,1] + 0.2989*rgb[:,:,2]).astype(np.uint8)"
   ]
  },
  {
   "cell_type": "code",
   "execution_count": null,
   "metadata": {},
   "outputs": [],
   "source": [
    "img_rgb = cv2.imread('./images/make_binary.png')"
   ]
  },
  {
   "cell_type": "code",
   "execution_count": null,
   "metadata": {},
   "outputs": [],
   "source": [
    "print(img_rgb.shape)"
   ]
  },
  {
   "cell_type": "code",
   "execution_count": null,
   "metadata": {},
   "outputs": [],
   "source": [
    "ShowImage(img_rgb, False)"
   ]
  },
  {
   "cell_type": "code",
   "execution_count": null,
   "metadata": {},
   "outputs": [],
   "source": [
    "h,s,i = rgb_to_hsi(img_rgb)\n",
    "#i = i.astype(np.uint8)\n",
    "i = normalization(i, 255)"
   ]
  },
  {
   "cell_type": "code",
   "execution_count": null,
   "metadata": {},
   "outputs": [],
   "source": [
    "gray = rgb_gray(img_rgb)\n",
    "gray = normalization(gray, 255)"
   ]
  },
  {
   "cell_type": "code",
   "execution_count": null,
   "metadata": {},
   "outputs": [],
   "source": [
    "imgs = cv2.hconcat([gray, i])"
   ]
  },
  {
   "cell_type": "code",
   "execution_count": null,
   "metadata": {},
   "outputs": [],
   "source": [
    "ShowImage(imgs, True)"
   ]
  },
  {
   "cell_type": "code",
   "execution_count": null,
   "metadata": {},
   "outputs": [],
   "source": [
    "out1 = img_subtraction_manual(gray, i)\n",
    "out2 = img_subtraction_cv2(gray, i) "
   ]
  },
  {
   "cell_type": "code",
   "execution_count": null,
   "metadata": {},
   "outputs": [],
   "source": [
    "imgs = cv2.hconcat([out1, out2])"
   ]
  },
  {
   "cell_type": "code",
   "execution_count": null,
   "metadata": {},
   "outputs": [],
   "source": [
    "ShowImage(imgs, True)"
   ]
  },
  {
   "cell_type": "code",
   "execution_count": null,
   "metadata": {},
   "outputs": [],
   "source": []
  }
 ],
 "metadata": {
  "kernelspec": {
   "display_name": "vision",
   "language": "python",
   "name": "python3"
  },
  "language_info": {
   "codemirror_mode": {
    "name": "ipython",
    "version": 3
   },
   "file_extension": ".py",
   "mimetype": "text/x-python",
   "name": "python",
   "nbconvert_exporter": "python",
   "pygments_lexer": "ipython3",
   "version": "3.7.9"
  },
  "orig_nbformat": 4
 },
 "nbformat": 4,
 "nbformat_minor": 2
}
