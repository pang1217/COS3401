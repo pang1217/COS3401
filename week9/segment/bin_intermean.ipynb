{
 "cells": [
  {
   "cell_type": "code",
   "execution_count": null,
   "metadata": {},
   "outputs": [],
   "source": [
    "import cv2\n",
    "from matplotlib import pyplot as plt\n",
    "import numpy as np\n",
    "import math"
   ]
  },
  {
   "cell_type": "code",
   "execution_count": null,
   "metadata": {},
   "outputs": [],
   "source": [
    "def cv_show(im,msg):\n",
    "    cv2.imshow(msg,im)\n",
    "    cv2.waitKey(0)\n",
    "    cv2.destroyAllWindows()\t"
   ]
  },
  {
   "cell_type": "code",
   "execution_count": null,
   "metadata": {},
   "outputs": [],
   "source": [
    "def plt_show(im):\n",
    "    plt.axis(\"off\")\n",
    "    plt.imshow(im, cmap=\"gray\")\n",
    "    plt.show()\n",
    "    "
   ]
  },
  {
   "cell_type": "code",
   "execution_count": null,
   "metadata": {},
   "outputs": [],
   "source": [
    "def hist_img_v0(f):\n",
    "    m, n = f.shape\n",
    "    h = [0.0] * 256\n",
    "    for i in range(m):\n",
    "        for j in range(n):\n",
    "            h[f[i, j]]+=1\n",
    "    return np.array(h, dtype='uint16')"
   ]
  },
  {
   "cell_type": "code",
   "execution_count": null,
   "metadata": {},
   "outputs": [],
   "source": [
    "def intermean(hist, t):\n",
    "    tot = np.sum(hist)\n",
    "    prob = hist/tot\n",
    "    w0 = np.sum(prob[:t+1]) + 0.0000001\n",
    "    #w1 = np.sum(prob[t+1:])\n",
    "    w1 = (1 - w0) + 0.0000001\n",
    "    i0 = np.array([i for i in range(0,t+1)])\n",
    "    i1 = np.array([i for i in range(t+1, 256)])\n",
    "    u0 = np.sum(i0*prob[:t+1])/w0\n",
    "    u1 = np.sum(i1*prob[t+1:])/w1\n",
    "    if u0 == 0.0:\n",
    "        thr = u1\n",
    "    elif u1 == 0.0:\n",
    "        thr = u0\n",
    "    else:\n",
    "        thr = (u0+u1)/2\n",
    "    return thr.astype(np.uint8)\n",
    "    \n",
    "    \n",
    "    "
   ]
  },
  {
   "cell_type": "code",
   "execution_count": null,
   "metadata": {},
   "outputs": [],
   "source": [
    "img = cv2.imread(\"./images/gray.png\", 0)"
   ]
  },
  {
   "cell_type": "code",
   "execution_count": null,
   "metadata": {},
   "outputs": [],
   "source": [
    "plt_show(img)"
   ]
  },
  {
   "cell_type": "code",
   "execution_count": null,
   "metadata": {},
   "outputs": [],
   "source": [
    "hist = hist_img_v0(img)"
   ]
  },
  {
   "cell_type": "code",
   "execution_count": null,
   "metadata": {},
   "outputs": [],
   "source": [
    "plt.plot(hist)\n",
    "plt.savefig('./outs/graph_org.jpg')"
   ]
  },
  {
   "cell_type": "code",
   "execution_count": null,
   "metadata": {},
   "outputs": [],
   "source": [
    "t0 = 10\n",
    "tol = 1\n",
    "flag = True\n",
    "T = []\n",
    "T.append(t0)\n",
    "while(flag):\n",
    "    t1 = intermean(hist, t0)\n",
    "    T.append(t1)\n",
    "    if abs(t1-t0) <= tol :\n",
    "        flag = False\n",
    "    else:\n",
    "        t0 = t1\n",
    "thr = T[-1]\n",
    "print(T, thr)"
   ]
  },
  {
   "cell_type": "code",
   "execution_count": null,
   "metadata": {},
   "outputs": [],
   "source": [
    "out = np.zeros_like(img)\n",
    "out[img <= thr ] = 0\n",
    "out[img > thr] = 255"
   ]
  },
  {
   "cell_type": "code",
   "execution_count": null,
   "metadata": {},
   "outputs": [],
   "source": [
    "plt_show(out)"
   ]
  },
  {
   "cell_type": "code",
   "execution_count": null,
   "metadata": {},
   "outputs": [],
   "source": [
    "imgs = cv2.hconcat([img, out])\n",
    "plt_show(imgs)"
   ]
  },
  {
   "cell_type": "code",
   "execution_count": null,
   "metadata": {},
   "outputs": [],
   "source": []
  }
 ],
 "metadata": {
  "kernelspec": {
   "display_name": "Python 3",
   "language": "python",
   "name": "python3"
  },
  "language_info": {
   "codemirror_mode": {
    "name": "ipython",
    "version": 3
   },
   "file_extension": ".py",
   "mimetype": "text/x-python",
   "name": "python",
   "nbconvert_exporter": "python",
   "pygments_lexer": "ipython3",
   "version": "3.11.5"
  },
  "orig_nbformat": 4
 },
 "nbformat": 4,
 "nbformat_minor": 2
}
