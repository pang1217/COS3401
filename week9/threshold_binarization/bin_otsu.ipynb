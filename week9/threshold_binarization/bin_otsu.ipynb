{
 "cells": [
  {
   "cell_type": "code",
   "execution_count": 47,
   "metadata": {},
   "outputs": [],
   "source": [
    "import cv2\n",
    "from matplotlib import pyplot as plt\n",
    "import numpy as np\n",
    "import math"
   ]
  },
  {
   "cell_type": "code",
   "execution_count": 48,
   "metadata": {},
   "outputs": [],
   "source": [
    "def cv_show(im,msg):\n",
    "    cv2.imshow(msg,im)\n",
    "    cv2.waitKey(0)\n",
    "    cv2.destroyAllWindows()\t"
   ]
  },
  {
   "cell_type": "code",
   "execution_count": 49,
   "metadata": {},
   "outputs": [],
   "source": [
    "def plt_show(im):\n",
    "    plt.axis(\"off\")\n",
    "    plt.imshow(im, cmap=\"gray\")\n",
    "    plt.show()\n",
    "    "
   ]
  },
  {
   "cell_type": "code",
   "execution_count": null,
   "metadata": {},
   "outputs": [],
   "source": [
    "def hist_img_v0(f):\n",
    "    m, n = f.shape\n",
    "    h = [0.0] * 256\n",
    "    for i in range(m):\n",
    "        for j in range(n):\n",
    "            h[f[i, j]]+=1\n",
    "    return np.array(h, dtype='uint16')"
   ]
  },
  {
   "cell_type": "code",
   "execution_count": null,
   "metadata": {},
   "outputs": [],
   "source": [
    "def otsu(hist):\n",
    "    tot = np.sum(hist)\n",
    "    prob = hist/tot\n",
    "    coef_max = -1\n",
    "    thr = -1\n",
    "    for t in range(1,255):\n",
    "        w0 = np.sum(prob[:t]) + 0.00000001\n",
    "        w1 = np.sum(prob[t:]) + 0.00000001\n",
    "        i0 = np.array([i for i in range(t)])\n",
    "        i1 = np.array([i for i in range(t,256)])\n",
    "        u0 = np.sum(i0*prob[:t])/w0\n",
    "        u1 = np.sum(i1*prob[t:])/w1\n",
    "\n",
    "        coef = (w0*w1)*np.power(u0-u1,2)\n",
    "        if  coef > coef_max:\n",
    "            coef_max = coef\n",
    "            thr = t\n",
    "    return thr\n",
    "    \n",
    "    \n",
    "    "
   ]
  },
  {
   "cell_type": "code",
   "execution_count": null,
   "metadata": {},
   "outputs": [],
   "source": [
    "img = cv2.imread(\"./images/gray.png\", 0)"
   ]
  },
  {
   "cell_type": "code",
   "execution_count": null,
   "metadata": {},
   "outputs": [],
   "source": [
    "plt_show(img)"
   ]
  },
  {
   "cell_type": "code",
   "execution_count": null,
   "metadata": {},
   "outputs": [],
   "source": [
    "hist = hist_img_v0(img)"
   ]
  },
  {
   "cell_type": "code",
   "execution_count": null,
   "metadata": {},
   "outputs": [],
   "source": [
    "#plt.plot(hist)\n",
    "#plt.savefig('./outs/graph_org.jpg')"
   ]
  },
  {
   "cell_type": "code",
   "execution_count": null,
   "metadata": {},
   "outputs": [],
   "source": [
    "t0 = 10\n",
    "tol = 1\n",
    "flag = True\n",
    "thr = otsu(hist)\n",
    "print(thr)"
   ]
  },
  {
   "cell_type": "code",
   "execution_count": null,
   "metadata": {},
   "outputs": [],
   "source": [
    "out = np.zeros_like(img)\n",
    "out[img <= thr ] = 0\n",
    "out[img > thr] = 255"
   ]
  },
  {
   "cell_type": "code",
   "execution_count": null,
   "metadata": {},
   "outputs": [],
   "source": [
    "plt_show(out)"
   ]
  },
  {
   "cell_type": "code",
   "execution_count": null,
   "metadata": {},
   "outputs": [],
   "source": [
    "imgs = cv2.hconcat([img, out])\n",
    "plt_show(imgs)"
   ]
  },
  {
   "cell_type": "code",
   "execution_count": null,
   "metadata": {},
   "outputs": [],
   "source": []
  }
 ],
 "metadata": {
  "kernelspec": {
   "display_name": "Python 3",
   "language": "python",
   "name": "python3"
  },
  "language_info": {
   "codemirror_mode": {
    "name": "ipython",
    "version": 3
   },
   "file_extension": ".py",
   "mimetype": "text/x-python",
   "name": "python",
   "nbconvert_exporter": "python",
   "pygments_lexer": "ipython3",
   "version": "3.11.5"
  },
  "orig_nbformat": 4
 },
 "nbformat": 4,
 "nbformat_minor": 2
}
