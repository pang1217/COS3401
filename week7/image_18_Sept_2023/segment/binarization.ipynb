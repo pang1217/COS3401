{
 "cells": [
  {
   "cell_type": "code",
   "execution_count": 1,
   "metadata": {},
   "outputs": [],
   "source": [
    "import cv2\n",
    "from matplotlib import pyplot as plt\n",
    "import numpy as np"
   ]
  },
  {
   "cell_type": "code",
   "execution_count": 2,
   "metadata": {},
   "outputs": [],
   "source": [
    "def cv_show(im,msg):\n",
    "    cv2.imshow(msg,im)\n",
    "    cv2.waitKey(0)\n",
    "    cv2.destroyAllWindows()\t"
   ]
  },
  {
   "cell_type": "code",
   "execution_count": 3,
   "metadata": {},
   "outputs": [],
   "source": [
    "def plt_show(im):\n",
    "    plt.axis(\"off\")\n",
    "    plt.imshow(im, cmap=\"gray\")\n",
    "    plt.show()\n",
    "    "
   ]
  },
  {
   "cell_type": "code",
   "execution_count": 4,
   "metadata": {},
   "outputs": [],
   "source": [
    "img = cv2.imread(\"./images/test.png\", 0)"
   ]
  },
  {
   "cell_type": "code",
   "execution_count": 5,
   "metadata": {},
   "outputs": [],
   "source": [
    "def intermean ():\n",
    "    return "
   ]
  },
  {
   "cell_type": "code",
   "execution_count": 6,
   "metadata": {},
   "outputs": [
    {
     "ename": "NameError",
     "evalue": "name 'hist' is not defined",
     "output_type": "error",
     "traceback": [
      "\u001b[0;31m---------------------------------------------------------------------------\u001b[0m",
      "\u001b[0;31mNameError\u001b[0m                                 Traceback (most recent call last)",
      "\u001b[1;32m/Users/nathaphan/Term1_66/COS3401/week7/image_18_Sept_2023/segment/binarization.ipynb Cell 6\u001b[0m line \u001b[0;36m6\n\u001b[1;32m      <a href='vscode-notebook-cell:/Users/nathaphan/Term1_66/COS3401/week7/image_18_Sept_2023/segment/binarization.ipynb#W5sZmlsZQ%3D%3D?line=3'>4</a>\u001b[0m T\u001b[39m.\u001b[39mappend(t0)\n\u001b[1;32m      <a href='vscode-notebook-cell:/Users/nathaphan/Term1_66/COS3401/week7/image_18_Sept_2023/segment/binarization.ipynb#W5sZmlsZQ%3D%3D?line=4'>5</a>\u001b[0m \u001b[39mwhile\u001b[39;00m flag :\n\u001b[0;32m----> <a href='vscode-notebook-cell:/Users/nathaphan/Term1_66/COS3401/week7/image_18_Sept_2023/segment/binarization.ipynb#W5sZmlsZQ%3D%3D?line=5'>6</a>\u001b[0m     t1 \u001b[39m=\u001b[39m intermean(hist, t0)\n\u001b[1;32m      <a href='vscode-notebook-cell:/Users/nathaphan/Term1_66/COS3401/week7/image_18_Sept_2023/segment/binarization.ipynb#W5sZmlsZQ%3D%3D?line=6'>7</a>\u001b[0m     T\u001b[39m.\u001b[39mappend(t1)\n",
      "\u001b[0;31mNameError\u001b[0m: name 'hist' is not defined"
     ]
    }
   ],
   "source": [
    "t0 = 10\n",
    "flag = True\n",
    "T = []\n",
    "T.append(t0)\n",
    "while flag :\n",
    "    t1 = intermean(hist, t0)\n",
    "    T.append(t1)"
   ]
  }
 ],
 "metadata": {
  "kernelspec": {
   "display_name": "Python 3",
   "language": "python",
   "name": "python3"
  },
  "language_info": {
   "codemirror_mode": {
    "name": "ipython",
    "version": 3
   },
   "file_extension": ".py",
   "mimetype": "text/x-python",
   "name": "python",
   "nbconvert_exporter": "python",
   "pygments_lexer": "ipython3",
   "version": "3.9.18"
  },
  "orig_nbformat": 4
 },
 "nbformat": 4,
 "nbformat_minor": 2
}
